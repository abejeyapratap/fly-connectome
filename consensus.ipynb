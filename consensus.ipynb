{
 "cells": [
  {
   "attachments": {},
   "cell_type": "markdown",
   "metadata": {},
   "source": [
    "## Consensus Clusters on Louvain Algorithm"
   ]
  },
  {
   "cell_type": "code",
   "execution_count": 2,
   "metadata": {},
   "outputs": [],
   "source": [
    "import os\n",
    "\n",
    "import numpy as np\n",
    "import pandas as pd\n",
    "import matplotlib.pyplot as plt"
   ]
  },
  {
   "cell_type": "code",
   "execution_count": 3,
   "metadata": {},
   "outputs": [],
   "source": [
    "from neuprint import  fetch_adjacencies, fetch_neurons\n",
    "from neuprint.utils import connection_table_to_matrix, merge_neuron_properties"
   ]
  },
  {
   "cell_type": "code",
   "execution_count": null,
   "metadata": {},
   "outputs": [],
   "source": [
    "import bct\n",
    "from netneurotools import cluster\n",
    "from netneurotools import modularity"
   ]
  },
  {
   "cell_type": "code",
   "execution_count": 4,
   "metadata": {},
   "outputs": [],
   "source": [
    "# DNp01 (giant fiber) to DNp11\n",
    "body_ids = [\"2307027729\",\"5813024015\", \"1565846637\", \"1405231475\", \"1466998977\", \"5813023322\", \"1100404581\", \"1226887763\", \"1228264951\", \"512851433\", \"5813026936\", \"1281324958\"]\n",
    "DNp_ids = [int(i) for i in body_ids]"
   ]
  },
  {
   "cell_type": "code",
   "execution_count": 21,
   "metadata": {},
   "outputs": [],
   "source": [
    "# read all_connection_df.csv file\n",
    "all_connection_df = pd.read_csv(\"./data/all_connection_df.csv\")"
   ]
  },
  {
   "cell_type": "code",
   "execution_count": 22,
   "metadata": {},
   "outputs": [],
   "source": [
    "def make_matrix(conn_df, group_cols='bodyId', weight_col='weight', sort_by=None, make_square=False):\n",
    "    if isinstance(group_cols, str):\n",
    "        group_cols = (f\"{group_cols}_pre\", f\"{group_cols}_post\")\n",
    "\n",
    "    assert len(group_cols) == 2, \\\n",
    "        \"Please provide two group_cols (e.g. 'bodyId_pre', 'bodyId_post')\"\n",
    "\n",
    "    assert group_cols[0] in conn_df, \\\n",
    "        f\"Column missing: {group_cols[0]}\"\n",
    "\n",
    "    assert group_cols[1] in conn_df, \\\n",
    "        f\"Column missing: {group_cols[1]}\"\n",
    "\n",
    "    assert weight_col in conn_df, \\\n",
    "        f\"Column missing: {weight_col}\"\n",
    "\n",
    "    col_pre, col_post = group_cols\n",
    "    dtype = conn_df[weight_col].dtype\n",
    "\n",
    "    agg_weights_df = conn_df.groupby([col_pre, col_post], sort=False)[weight_col].sum().reset_index()\n",
    "    matrix = agg_weights_df.pivot(col_pre, col_post, weight_col)\n",
    "    matrix = matrix.fillna(0).astype(dtype)\n",
    "\n",
    "    if sort_by:\n",
    "        if isinstance(sort_by, str):\n",
    "            sort_by = (f\"{sort_by}_pre\", f\"{sort_by}_post\")\n",
    "\n",
    "        assert len(sort_by) == 2, \\\n",
    "            \"Please provide two sort_by column names (e.g. 'type_pre', 'type_post')\"\n",
    "\n",
    "        pre_order = conn_df.sort_values(sort_by[0])[col_pre].unique()\n",
    "        post_order = conn_df.sort_values(sort_by[1])[col_post].unique()\n",
    "        matrix = matrix.reindex(index=pre_order, columns=post_order)\n",
    "    else:\n",
    "        # No sort: Keep the order as close to the input order as possible.\n",
    "        pre_order = conn_df[col_pre].unique()\n",
    "        post_order = conn_df[col_post].unique()\n",
    "        matrix = matrix.reindex(index=pre_order, columns=post_order)\n",
    "\n",
    "    if make_square:    \n",
    "        matrix ,_ = matrix.align(matrix.T)\n",
    "        matrix = matrix.fillna(0.0).astype(matrix.dtypes) # not sure abt dtypes\n",
    "\n",
    "        # matrix, _ = matrix.align(matrix.T).fillna(0.0).astype(matrix.dtype)\n",
    "        matrix = matrix.rename_axis('bodyId_pre', axis=0).rename_axis('bodyId_post', axis=1)\n",
    "        matrix = matrix.loc[sorted(matrix.index), sorted(matrix.columns)]\n",
    "\n",
    "    return matrix"
   ]
  },
  {
   "cell_type": "code",
   "execution_count": 23,
   "metadata": {},
   "outputs": [
    {
     "name": "stderr",
     "output_type": "stream",
     "text": [
      "/var/folders/q5/wpyng01x7nld79qn65091y_r0000gn/T/ipykernel_3901/2387842939.py:21: FutureWarning: In a future version of pandas all arguments of DataFrame.pivot will be keyword-only.\n",
      "  matrix = agg_weights_df.pivot(col_pre, col_post, weight_col)\n"
     ]
    }
   ],
   "source": [
    "# convert to NxN adjacency matrix\n",
    "adj_mat_df = make_matrix(all_connection_df, 'bodyId', make_square=True)"
   ]
  },
  {
   "cell_type": "code",
   "execution_count": 25,
   "metadata": {},
   "outputs": [],
   "source": [
    "adj_mat = adj_mat_df.to_numpy()"
   ]
  },
  {
   "cell_type": "code",
   "execution_count": 163,
   "metadata": {},
   "outputs": [
    {
     "ename": "BCTParamError",
     "evalue": "Modularity infinite loop style G. Please contact the developer.",
     "output_type": "error",
     "traceback": [
      "\u001b[0;31m---------------------------------------------------------------------------\u001b[0m",
      "\u001b[0;31mBCTParamError\u001b[0m                             Traceback (most recent call last)",
      "Cell \u001b[0;32mIn[163], line 4\u001b[0m\n\u001b[1;32m      1\u001b[0m ci \u001b[39m=\u001b[39m []\n\u001b[1;32m      2\u001b[0m \u001b[39mfor\u001b[39;00m i \u001b[39min\u001b[39;00m \u001b[39mrange\u001b[39m(\u001b[39m10\u001b[39m):\n\u001b[1;32m      3\u001b[0m     \u001b[39m# run bct's Louvain algorithm\u001b[39;00m\n\u001b[0;32m----> 4\u001b[0m     ci_assign, q \u001b[39m=\u001b[39m bct\u001b[39m.\u001b[39;49mcommunity_louvain(adj_mat)\n\u001b[1;32m      5\u001b[0m     ci\u001b[39m.\u001b[39mappend(ci_assign)\n\u001b[1;32m      7\u001b[0m     \u001b[39m# get the number of communities\u001b[39;00m\n",
      "File \u001b[0;32m~/opt/anaconda3/envs/neuprint/lib/python3.10/site-packages/bct/algorithms/modularity.py:189\u001b[0m, in \u001b[0;36mcommunity_louvain\u001b[0;34m(W, gamma, ci, B, seed)\u001b[0m\n\u001b[1;32m    187\u001b[0m it \u001b[39m+\u001b[39m\u001b[39m=\u001b[39m \u001b[39m1\u001b[39m\n\u001b[1;32m    188\u001b[0m \u001b[39mif\u001b[39;00m it \u001b[39m>\u001b[39m \u001b[39m1000\u001b[39m:\n\u001b[0;32m--> 189\u001b[0m     \u001b[39mraise\u001b[39;00m BCTParamError(\u001b[39m'\u001b[39m\u001b[39mModularity infinite loop style G. \u001b[39m\u001b[39m'\u001b[39m\n\u001b[1;32m    190\u001b[0m                         \u001b[39m'\u001b[39m\u001b[39mPlease contact the developer.\u001b[39m\u001b[39m'\u001b[39m)\n\u001b[1;32m    191\u001b[0m flag \u001b[39m=\u001b[39m \u001b[39mFalse\u001b[39;00m\n\u001b[1;32m    192\u001b[0m \u001b[39mfor\u001b[39;00m u \u001b[39min\u001b[39;00m rng\u001b[39m.\u001b[39mpermutation(n):\n",
      "\u001b[0;31mBCTParamError\u001b[0m: Modularity infinite loop style G. Please contact the developer."
     ]
    }
   ],
   "source": [
    "\"\"\" ci = []\n",
    "for i in range(10):\n",
    "    # run bct's Louvain algorithm\n",
    "    ci_assign, q = bct.community_louvain(adj_mat)\n",
    "    ci.append(ci_assign)\n",
    "    \n",
    "    # get the number of communities\n",
    "    n_communities = len(np.unique(ci_assign))\n",
    "    print('{} clusters detected with a modularity of {:.2f}.'.format(n_communities, q)) \"\"\""
   ]
  },
  {
   "cell_type": "code",
   "execution_count": 173,
   "metadata": {},
   "outputs": [],
   "source": [
    "# ci = [bct.community_louvain(adj_mat)[0] for n in range(5)]"
   ]
  },
  {
   "cell_type": "code",
   "execution_count": null,
   "metadata": {},
   "outputs": [],
   "source": []
  },
  {
   "cell_type": "code",
   "execution_count": 26,
   "metadata": {},
   "outputs": [],
   "source": [
    "from sknetwork.clustering import Louvain, get_modularity\n",
    "from sknetwork.linalg import normalize\n",
    "from sknetwork.utils import get_membership\n",
    "\n",
    "from sknetwork.data import from_edge_list\n",
    "from scipy import sparse\n",
    "\n",
    "import networkx as nx"
   ]
  },
  {
   "cell_type": "code",
   "execution_count": 27,
   "metadata": {},
   "outputs": [],
   "source": [
    "dfFilt = all_connection_df[['bodyId_pre', 'bodyId_post', 'weight']] # sknetwork uses 3rd col as weight"
   ]
  },
  {
   "cell_type": "code",
   "execution_count": 28,
   "metadata": {},
   "outputs": [],
   "source": [
    "graph = from_edge_list(list(dfFilt.itertuples(index=False)), weighted=True, directed=True) # without directed=True, wrong # of elements"
   ]
  },
  {
   "cell_type": "code",
   "execution_count": 29,
   "metadata": {},
   "outputs": [
    {
     "data": {
      "text/plain": [
       "(<5596x5596 sparse matrix of type '<class 'numpy.int64'>'\n",
       " \twith 389065 stored elements in Compressed Sparse Row format>,\n",
       " array([ 326253554,  357245785,  357249472, ..., 7112615304, 7112622763,\n",
       "        7112624834]))"
      ]
     },
     "execution_count": 29,
     "metadata": {},
     "output_type": "execute_result"
    }
   ],
   "source": [
    "graph.adjacency, graph.names"
   ]
  },
  {
   "cell_type": "code",
   "execution_count": 30,
   "metadata": {},
   "outputs": [],
   "source": [
    "# find DNp ids in consensus clusters\n",
    "bodyId_indices = [np.where(graph.names == neuron)[0][0] for neuron in DNp_ids] # indices of bodyIds in graph.names "
   ]
  },
  {
   "cell_type": "code",
   "execution_count": null,
   "metadata": {},
   "outputs": [],
   "source": []
  },
  {
   "attachments": {},
   "cell_type": "markdown",
   "metadata": {},
   "source": [
    "NOTE: an implicit assumption in Louvain's clustering assignment output is that clustering labels are assigned to nodes in the order present in graph.names."
   ]
  },
  {
   "cell_type": "code",
   "execution_count": 31,
   "metadata": {},
   "outputs": [],
   "source": [
    "consensusResults = [] # this list stores a tuple for each iteration: (numIter, consensusClusterAssn)"
   ]
  },
  {
   "cell_type": "code",
   "execution_count": 72,
   "metadata": {},
   "outputs": [
    {
     "name": "stdout",
     "output_type": "stream",
     "text": [
      "[0 1 2 3 4 5 6] [1372 1112 1038  927  786  291   70]\n",
      "[0 1 2 3 4 5 6] [1273 1079 1057 1023  651  306  207]\n",
      "[0 1 2 3 4 5 6] [1672 1352 1309  750  287  155   71]\n",
      "[0 1 2 3 4 5 6 7] [1176 1096 1066 1022  769  392   73    2]\n",
      "[0 1 2 3 4 5 6] [1524 1007  973  853  584  388  267]\n",
      "[0 1 2 3 4 5 6] [1091 1080 1078 1055  946  276   70]\n",
      "[0 1 2 3 4 5 6 7] [1279 1057 1049  894  821  279  146   71]\n",
      "[0 1 2 3 4 5 6] [1732 1599 1328  388  315  164   70]\n",
      "[0 1 2 3 4 5 6] [1307 1170 1001  998  782  268   70]\n",
      "[0 1 2 3 4 5 6] [1673 1354 1352  711  280  156   70]\n",
      "[0 1 2 3 4 5 6] [1668 1285 1084 1060  277  152   70]\n",
      "[0 1 2 3 4 5] [1671 1261 1079 1066  316  203]\n",
      "[0 1 2 3 4 5 6] [1073 1073 1068 1048  988  276   70]\n",
      "[0 1 2 3 4 5 6] [1231 1097  970  898  733  396  271]\n",
      "[0 1 2 3 4 5 6 7] [1610 1058 1053 1030  419  269  155    2]\n",
      "[0 1 2 3 4 5 6] [1112 1109 1076 1005  938  285   71]\n",
      "[0 1 2 3 4 5] [1687 1423 1076 1045  295   70]\n",
      "[0 1 2 3 4 5] [1628 1346 1065  898  389  270]\n",
      "[0 1 2 3 4 5] [1690 1264 1075  902  395  270]\n",
      "[0 1 2 3 4 5 6] [1683 1663 1342  401  284  153   70]\n",
      "[0 1 2 3 4] [1681 1359 1127 1109  320]\n",
      "[0 1 2 3 4 5] [1585 1354 1083  899  389  286]\n",
      "[0 1 2 3 4 5 6 7 8] [1726 1094 1006  877  391  281  145   70    6]\n",
      "[0 1 2 3 4 5] [1225 1079 1022  993  888  389]\n",
      "[0 1 2 3 4 5] [1696 1633  791  685  482  309]\n",
      "[0 1 2 3 4 5 6] [1738 1697 1278  390  278  144   71]\n",
      "[0 1 2 3 4 5 6] [1472 1084  897  784  688  390  281]\n",
      "[0 1 2 3 4 5] [1268 1124 1071 1065  849  219]\n",
      "[0 1 2 3 4 5 6 7] [1184 1017  987  935  932  274  196   71]\n",
      "[0 1 2 3 4 5 6 7] [1291 1252  979  831  734  261  178   70]\n",
      "[0 1 2 3 4 5 6 7] [1292 1064  948  822  738  396  265   71]\n",
      "[0 1 2 3 4 5 6] [1719 1252 1121  895  398  142   69]\n",
      "[0 1 2 3 4 5] [1649 1322 1062 1060  307  196]\n",
      "[0 1 2 3 4 5 6] [1764 1692 1238  402  284  146   70]\n",
      "[0 1 2 3 4 5 6 7 8] [1273 1169 1109  797  736  269  163   70   10]\n",
      "[0 1 2 3 4 5 6] [1729 1690 1272  384  295  156   70]\n",
      "[0 1 2 3 4 5 6] [1685 1278 1078 1041  284  160   70]\n",
      "[0 1 2 3 4 5 6] [1580 1281  965  801  510  253  206]\n",
      "[0 1 2 3 4 5 6 7] [1226 1069  963  863  759  387  259   70]\n",
      "[0 1 2 3 4 5] [1657 1306 1074  891  386  282]\n",
      "[0 1 2 3 4 5 6] [1451 1091  988  944  690  274  158]\n",
      "[0 1 2 3 4 5 6] [1726 1273 1062 1030  269  166   70]\n",
      "[0 1 2 3 4 5 6] [1680 1327  990  851  384  294   70]\n",
      "[0 1 2 3 4 5 6] [1496 1144 1087 1081  569  150   69]\n",
      "[0 1 2 3 4 5] [1662 1336 1089  846  392  271]\n",
      "[0 1 2 3 4 5 6] [1285 1081  980  863  739  390  258]\n",
      "[0 1 2 3 4 5 6 7] [1369 1144  969  876  730  265  173   70]\n",
      "[0 1 2 3 4 5 6 7] [1295 1055 1046  968  726  287  149   70]\n",
      "[0 1 2 3 4 5 6] [1077 1022  993  924  912  389  279]\n",
      "[0 1 2 3 4 5] [1708 1392 1275  730  286  205]\n",
      "[0 1 2 3 4 5 6] [1700 1220 1035 1024  399  149   69]\n",
      "[0 1 2 3 4 5 6] [1258 1085 1034 1007  724  418   70]\n",
      "[0 1 2 3 4 5 6] [1525 1072  995  874  460  395  275]\n",
      "[0 1 2 3 4 5 6] [1691 1264 1069 1065  287  150   70]\n",
      "[0 1 2 3 4 5 6] [1247 1184 1051  751  667  394  302]\n",
      "[0 1 2 3 4 5 6 7] [1274 1078 1043 1029  664  294  144   70]\n",
      "[0 1 2 3 4 5 6] [1508 1372  974  726  499  272  245]\n",
      "[0 1 2 3 4 5 6] [1292 1072 1036 1018  953  155   70]\n",
      "[0 1 2 3 4 5] [1233 1043 1041 1029 1019  231]\n",
      "[0 1 2 3 4 5 6 7] [1537 1468 1130  609  418  263  169    2]\n",
      "[0 1 2 3 4 5 6 7] [1580 1161 1085  950  373  283  162    2]\n",
      "[0 1 2 3 4 5] [1416 1250 1109 1075  510  236]\n",
      "[0 1 2 3 4 5] [1675 1262 1091 1047  301  220]\n",
      "[0 1 2 3 4 5 6] [1676 1275 1205  916  293  161   70]\n",
      "[0 1 2 3 4 5 6 7] [1232 1089 1046  877  862  271  149   70]\n",
      "[0 1 2 3 4 5 6] [1658 1298 1091 1042  286  151   70]\n",
      "[0 1 2 3 4 5 6 7] [1298 1085 1039  967  722  265  149   71]\n",
      "[0 1 2 3 4 5 6 7 8] [1746 1199 1024  742  390  280  143   70    2]\n",
      "[0 1 2 3 4 5 6 7] [1479 1358 1187  624  610  192   76   70]\n",
      "[0 1 2 3 4 5 6 7] [1733 1267  960  742  390  280  154   70]\n",
      "[0 1 2 3 4 5 6] [1684 1313 1061 1035  283  150   70]\n",
      "[0 1 2 3 4 5 6 7] [1273 1076 1058 1025  666  279  149   70]\n",
      "[0 1 2 3 4 5 6 7] [1206 1063  955  828  814  389  270   71]\n",
      "[0 1 2 3 4 5 6] [1357 1093 1052  944  778  302   70]\n",
      "[0 1 2 3 4 5 6] [1745 1503 1192  545  394  146   71]\n",
      "[0 1 2 3 4 5 6 7] [1723 1265  964  757  392  273  145   77]\n",
      "[0 1 2 3 4 5 6] [1679 1290 1181  935  275  166   70]\n",
      "[0 1 2 3 4 5 6] [1624 1385 1294  728  340  155   70]\n",
      "[0 1 2 3 4 5] [1689 1381 1103 1067  286   70]\n",
      "[0 1 2 3 4 5 6 7] [1106 1069 1032 1027  842  295  154   71]\n",
      "[0 1 2 3 4 5] [1656 1311 1062 1054  295  218]\n",
      "[0 1 2 3 4 5 6] [1692 1414 1329  545  397  149   70]\n",
      "[0 1 2 3 4 5 6] [1555 1160 1104  927  582  198   70]\n",
      "[0 1 2 3 4 5 6] [1696 1301  953  750  392  285  219]\n",
      "[0 1 2 3 4 5] [1620 1310 1065  929  389  283]\n",
      "[0 1 2 3 4 5 6 7] [1690 1279  878  852  389  282  155   71]\n",
      "[0 1 2 3 4 5 6] [1100 1064 1064  974  867  456   71]\n",
      "[0 1 2 3 4 5 6] [1674 1283 1084 1034  302  149   70]\n",
      "[0 1 2 3 4 5 6] [1281 1090 1058 1045  626  294  202]\n",
      "[0 1 2 3 4 5] [1195 1107 1009  984  906  395]\n",
      "[0 1 2 3 4 5 6 7] [1112 1090 1060  996  810  277  180   71]\n",
      "[0 1 2 3 4 5 6] [1654 1479  975  501  470  447   70]\n",
      "[0 1 2 3 4 5 6 7] [1707 1176 1087  726  395  288  147   70]\n",
      "[0 1 2 3 4 5 6] [1670 1346 1052 1051  281  126   70]\n",
      "[0 1 2 3 4 5 6] [1229 1071 1039 1032 1005  150   70]\n",
      "[0 1 2 3 4 5] [1675 1312 1015  918  389  287]\n",
      "[0 1 2 3 4 5 6] [1702 1289 1066 1054  270  145   70]\n",
      "[0 1 2 3 4 5 6 7] [1359 1264 1008  740  725  297  198    5]\n",
      "[0 1 2 3 4 5] [1694 1286 1078 1053  280  205]\n",
      "[0 1 2 3 4 5 6] [1658 1273 1093 1061  293  148   70]\n",
      "[0 1 2 3 4] [1688 1287 1055  985  581]\n",
      "[0 1 2 3 4 5 6] [1723 1432 1056  565  390  283  147]\n",
      "[0 1 2 3 4 5] [1745 1177 1126  926  395  227]\n",
      "[0 1 2 3 4 5 6 7 8] [1591  957  918  849  451  346  285  196    3]\n",
      "[0 1 2 3 4 5 6] [1715 1315 1062 1012  273  145   74]\n",
      "[0 1 2 3 4 5 6] [1725 1680 1291  393  296  140   71]\n",
      "[0 1 2 3 4 5 6] [1270 1067  960  887  745  386  281]\n",
      "[0 1 2 3 4 5 6 7] [1169 1120  982  909  744  390  272   10]\n",
      "[0 1 2 3 4 5] [1311 1117 1067 1067  609  425]\n",
      "[0 1 2 3 4 5 6] [1695 1253 1086 1058  280  154   70]\n",
      "[0 1 2 3 4 5 6 7 8] [1243  923  910  852  782  386  285  145   70]\n",
      "[0 1 2 3 4 5 6 7 8] [1074  967  908  870  850  400  275  182   70]\n",
      "[0 1 2 3 4 5 6] [1679 1330 1050 1037  278  151   71]\n",
      "[0 1 2 3 4 5 6] [991 971 927 864 753 702 388]\n",
      "[0 1 2 3 4 5 6] [1711 1273 1067 1053  265  157   70]\n",
      "[0 1 2 3 4 5] [1740 1662 1395  420  309   70]\n",
      "[0 1 2 3 4 5] [1685 1252 1086  895  390  288]\n",
      "[0 1 2 3 4 5] [1256 1081 1074  911  885  389]\n",
      "[0 1 2 3 4 5] [1297 1080 1071 1002  949  197]\n",
      "[0 1 2 3 4 5 6] [1234 1195 1070 1048  817  161   71]\n",
      "[0 1 2 3 4 5 6] [1624 1078 1020  959  490  258  167]\n",
      "[0 1 2 3 4 5] [1752 1696 1267  390  279  212]\n",
      "[0 1 2 3 4 5 6] [1125 1074  933  914  888  387  275]\n",
      "[0 1 2 3 4 5] [1686 1355 1096 1094  294   71]\n",
      "[0 1 2 3 4 5 6] [1538 1097 1064 1050  404  287  156]\n",
      "[0 1 2 3 4 5 6] [1685 1314 1190  897  274  166   70]\n",
      "[0 1 2 3 4 5 6] [1703 1311  938  755  409  286  194]\n",
      "[0 1 2 3 4 5 6] [1651 1318 1138  988  285  146   70]\n",
      "[0 1 2 3 4 5 6] [1111 1097 1068 1043  742  465   70]\n",
      "[0 1 2 3 4 5 6] [1070 1029  985  971  890  389  262]\n",
      "[0 1 2 3 4 5 6] [1697 1278 1052 1039  307  153   70]\n",
      "[0 1 2 3 4] [1668 1397 1128 1096  307]\n",
      "[0 1 2 3 4 5] [1685 1289 1162  958  261  241]\n",
      "[0 1 2 3 4 5 6 7] [1397 1071 1067  983  582  275  151   70]\n",
      "[0 1 2 3 4 5 6] [1741 1629 1306  409  287  154   70]\n",
      "[0 1 2 3 4 5 6] [1723 1693 1291  389  285  145   70]\n",
      "[0 1 2 3 4 5 6] [1099 1059 1051 1036  858  422   71]\n",
      "[0 1 2 3 4 5 6] [1321 1066 1019  888  843  388   71]\n",
      "[0 1 2 3 4 5 6] [1331 1094 1043 1006  777  258   87]\n",
      "[0 1 2 3 4 5 6] [1669 1344 1061 1021  278  153   70]\n",
      "[0 1 2 3 4 5] [1674 1244 1085  911  387  295]\n",
      "[0 1 2 3 4 5 6] [1550 1088 1036  962  534  424    2]\n",
      "[0 1 2 3 4 5 6] [1250 1159 1078 1054  816  169   70]\n",
      "[0 1 2 3 4 5] [1498 1206 1125 1090  531  146]\n",
      "[0 1 2 3 4 5 6] [1281 1073 1062  910  785  267  218]\n",
      "[0 1 2 3 4 5 6] [1736 1684 1280  391  290  145   70]\n",
      "[0 1 2 3 4 5 6 7] [1415 1299  921  829  635  261  166   70]\n",
      "[0 1 2 3 4 5 6] [1683 1260 1084 1068  276  155   70]\n",
      "[0 1 2 3 4 5 6] [1740 1674 1240  390  352  130   70]\n",
      "[0 1 2 3 4 5 6 7] [1206 1186  929  895  878  261  171   70]\n",
      "[0 1 2 3 4 5] [1632 1304 1071  917  393  279]\n",
      "[0 1 2 3 4 5 6 7] [1305 1061 1012  978  734  293  143   70]\n",
      "[0 1 2 3 4 5 6] [1782 1075 1066 1018  400  184   71]\n",
      "[0 1 2 3 4 5 6] [1060 1044 1010  942  888  391  261]\n",
      "[0 1 2 3 4 5] [1665 1309 1078 1042  278  224]\n",
      "[0 1 2 3 4 5] [1618 1231 1151  933  391  272]\n",
      "[0 1 2 3 4 5 6 7] [1269 1057  959  840  732  390  279   70]\n",
      "[0 1 2 3 4 5 6 7] [1726 1300  984  714  388  272  142   70]\n",
      "[0 1 2 3 4 5 6 7] [1092 1052 1048 1017  871  431   70   15]\n",
      "[0 1 2 3 4 5 6] [1611 1289 1073 1059  410   84   70]\n",
      "[0 1 2 3 4 5 6 7] [1747 1271  896  790  390  286  146   70]\n",
      "[0 1 2 3 4 5] [1634 1372 1011  911  391  277]\n",
      "[0 1 2 3 4 5] [1725 1271 1090 1051  389   70]\n",
      "[0 1 2 3 4 5 6] [1650 1300 1084 1064  276  152   70]\n",
      "[0 1 2 3 4 5 6] [1229 1086 1063 1027  952  169   70]\n",
      "[0 1 2 3 4 5 6] [1272 1067 1061  950  775  401   70]\n",
      "[0 1 2 3 4 5] [1627 1350 1026  917  388  288]\n",
      "[0 1 2 3 4 5 6] [1185 1086 1071 1010  772  401   71]\n",
      "[0 1 2 3 4 5 6 7] [1682 1322  921  799  394  261  147   70]\n",
      "[0 1 2 3 4 5 6] [1336 1178  966  841  774  268  233]\n",
      "[0 1 2 3 4 5 6 7] [1489 1011  913  869  492  390  275  157]\n",
      "[0 1 2 3 4 5 6] [1251 1105  904  825  818  402  291]\n",
      "[0 1 2 3 4 5 6] [1682 1275 1085 1074  250  161   69]\n",
      "[0 1 2 3 4 5 6 7] [1289 1243 1069  640  603  411  271   70]\n",
      "[0 1 2 3 4 5 6 7 8] [1288 1065  909  848  620  385  278  134   69]\n",
      "[0 1 2 3 4 5 6 7] [1276 1080  977  905  595  393  294   76]\n",
      "[0 1 2 3 4 5 6] [1070 1034 1032 1023  917  449   71]\n",
      "[0 1 2 3 4 5 6 7] [1347 1247  965  761  751  296  159   70]\n",
      "[0 1 2 3 4 5] [1698 1259 1086 1053  270  230]\n",
      "[0 1 2 3 4 5] [1367 1156 1091 1088  824   70]\n",
      "[0 1 2 3 4 5] [1663 1273 1084 1064  281  231]\n",
      "[0 1 2 3 4 5 6] [1686 1290 1151  959  277  163   70]\n",
      "[0 1 2 3 4 5 6] [1640 1322 1090 1046  275  153   70]\n",
      "[0 1 2 3 4 5 6 7] [1212 1149 1054 1040  647  280  144   70]\n",
      "[0 1 2 3 4 5] [1682 1308 1075 1047  414   70]\n",
      "[0 1 2 3 4 5 6 7] [1633 1324  934  842  387  274  133   69]\n",
      "[0 1 2 3 4 5 6] [1358  981  900  846  830  396  285]\n",
      "[0 1 2 3 4 5 6] [1177 1073  912  895  879  388  272]\n",
      "[0 1 2 3 4 5 6] [1605 1330 1068  850  393  280   70]\n",
      "[0 1 2 3 4 5 6 7] [1273 1079 1037  966  730  282  159   70]\n",
      "[0 1 2 3 4 5 6] [1167 1112 1062 1053  835  296   71]\n",
      "[0 1 2 3 4 5 6] [1257 1084  986  892  712  391  274]\n",
      "[0 1 2 3 4 5] [1657 1325 1052 1050  292  220]\n",
      "[0 1 2 3 4 5 6 7] [1239 1139 1041  966  687  301  153   70]\n",
      "[0 1 2 3 4 5] [1638 1349 1021  921  387  280]\n",
      "[0 1 2 3 4 5 6] [1332 1074 1067  951  732  279  161]\n",
      "[0 1 2 3 4 5 6] [1701 1217  972  920  404  311   71]\n",
      "[0 1 2 3 4 5 6] [1711 1505 1128  606  399  177   70]\n",
      "[0 1 2 3 4 5 6 7] [1565 1095 1042  949  514  272  157    2]\n",
      "[0 1 2 3 4 5 6] [1732 1257  932  781  389  279  226]\n",
      "[0 1 2 3 4 5] [1670 1339 1321  767  297  202]\n",
      "[0 1 2 3 4 5 6] [1216 1185  933  933  816  277  236]\n",
      "[0 1 2 3 4 5 6] [1690 1240 1094  830  394  278   70]\n",
      "[0 1 2 3 4 5] [1630 1243 1074  903  390  356]\n",
      "[0 1 2 3 4 5] [1724 1252 1145 1013  391   71]\n",
      "[0 1 2 3 4 5 6] [1108 1082 1066  920  898  452   70]\n",
      "[0 1 2 3 4 5 6] [1597 1076 1070  857  565  282  149]\n",
      "[0 1 2 3 4 5 6] [1695 1272 1055  841  386  277   70]\n",
      "[0 1 2 3 4 5 6 7] [1681 1316  906  804  388  283  148   70]\n",
      "[0 1 2 3 4 5 6 7] [1735 1266  934  770  390  277  154   70]\n",
      "[0 1 2 3 4 5] [1266 1113 1062  898  860  397]\n",
      "[0 1 2 3 4 5 6] [1215 1058 1043  995  806  409   70]\n",
      "[0 1 2 3 4 5 6 7] [1673 1340  949  742  388  283  151   70]\n",
      "[0 1 2 3 4 5 6] [1687 1268 1100 1054  269  148   70]\n",
      "[0 1 2 3 4 5 6] [1693 1260 1083 1057  287  146   70]\n",
      "[0 1 2 3 4 5 6 7 8] [1743 1158  962  849  392  273  146   71    2]\n",
      "[0 1 2 3 4 5] [1596 1336 1069  932  388  275]\n",
      "[0 1 2 3 4 5] [1312 1277 1071  889  659  388]\n",
      "[0 1 2 3 4 5 6] [1288 1211 1060 1049  765  152   71]\n",
      "[0 1 2 3 4 5] [1680 1265 1079 1062  293  217]\n",
      "[0 1 2 3 4 5 6] [1272 1117 1018  968  719  279  223]\n",
      "[0 1 2 3 4 5] [1711 1271 1083 1040  421   70]\n",
      "[0 1 2 3 4 5 6] [1433 1189 1117 1072  557  158   70]\n",
      "[0 1 2 3 4 5] [1643 1294 1083  913  386  277]\n",
      "[0 1 2 3 4 5 6 7] [1527 1103 1084 1064  403  287  126    2]\n",
      "[0 1 2 3 4 5 6] [1359 1086 1079  956  756  290   70]\n",
      "[0 1 2 3 4 5 6] [1440 1239 1176  909  602  160   70]\n",
      "[0 1 2 3 4 5 6 7 8] [1712 1210 1023  716  395  280  179   71   10]\n",
      "[0 1 2 3 4 5] [1713 1267 1094 1046  252  224]\n",
      "[0 1 2 3 4 5 6] [1742 1682 1282  395  285  141   69]\n",
      "[0 1 2 3 4 5 6 7] [1627 1146  923  899  559  278  162    2]\n",
      "[0 1 2 3 4 5 6 7 8 9] [1655 1183 1067  787  401  280  137   71   10    5]\n",
      "[0 1 2 3 4 5 6] [1625 1057 1028  904  548  285  149]\n",
      "[0 1 2 3 4 5 6] [1373 1093 1072  950  746  292   70]\n",
      "[0 1 2 3 4 5 6 7] [1514 1056  921  873  409  394  289  140]\n",
      "[0 1 2 3 4 5 6] [1498 1083 1012  861  473  388  281]\n",
      "[0 1 2 3 4 5 6 7] [1609 1318 1083 1068  290  156   70    2]\n",
      "[0 1 2 3 4 5 6] [1382 1282 1253  736  706  167   70]\n",
      "[0 1 2 3 4 5] [1434 1266 1078 1042  542  234]\n",
      "[0 1 2 3 4 5 6] [1726 1611 1355  416  263  155   70]\n",
      "[0 1 2 3 4 5 6] [1659 1302 1089 1054  277  145   70]\n",
      "[0 1 2 3 4 5] [1138 1124 1057  978  851  448]\n",
      "[0 1 2 3 4 5 6] [1632 1329 1083 1041  284  156   71]\n",
      "[0 1 2 3 4 5 6 7] [1735 1254  898  840  389  268  142   70]\n",
      "[0 1 2 3 4 5 6] [1692 1272 1056  831  399  276   70]\n",
      "[0 1 2 3 4 5 6] [1563 1333  975  724  515  281  205]\n",
      "[0 1 2 3 4 5] [1708 1238 1082 1068  283  217]\n",
      "[0 1 2 3 4 5 6 7] [1251 1108 1045  921  766  280  155   70]\n",
      "[0 1 2 3 4 5 6] [1716 1065 1033  902  389  293  198]\n",
      "[0 1 2 3 4 5 6 7] [1157 1130 1054  918  682  391  259    5]\n"
     ]
    }
   ],
   "source": [
    "expIters = 250 # should be multiples of 10 (maybe 5 is ok too)\n",
    "clusterAssignments = []\n",
    "\n",
    "for _ in range(expIters):\n",
    "    louvain = Louvain(shuffle_nodes=True)\n",
    "    labels = louvain.fit_predict(graph.adjacency) # each node (neuron) is assigned a label\n",
    "    clusterAssignments.append(labels)\n",
    "\n",
    "    labels_unique, counts = np.unique(labels, return_counts=True)\n",
    "    if expIters > 10 and expIters % 10 == 0:\n",
    "        continue\n",
    "    print(labels_unique, counts)"
   ]
  },
  {
   "cell_type": "code",
   "execution_count": 73,
   "metadata": {},
   "outputs": [
    {
     "data": {
      "text/plain": [
       "array([[4, 4, 4, ..., 1, 1, 5],\n",
       "       [4, 4, 4, ..., 1, 1, 5],\n",
       "       [0, 0, 0, ..., 1, 1, 4],\n",
       "       ...,\n",
       "       [4, 4, 4, ..., 1, 1, 5],\n",
       "       [1, 1, 1, ..., 0, 0, 5],\n",
       "       [0, 0, 0, ..., 2, 2, 6]])"
      ]
     },
     "execution_count": 73,
     "metadata": {},
     "output_type": "execute_result"
    }
   ],
   "source": [
    "clusterAssignments = np.array(clusterAssignments)\n",
    "clusterAssignments"
   ]
  },
  {
   "cell_type": "code",
   "execution_count": 76,
   "metadata": {},
   "outputs": [],
   "source": [
    "# consensus = cluster.find_consensus(np.column_stack(clusterAssignments), seed=1234)\n",
    "consensus = cluster.find_consensus(np.column_stack(clusterAssignments))"
   ]
  },
  {
   "cell_type": "code",
   "execution_count": 77,
   "metadata": {},
   "outputs": [
    {
     "name": "stdout",
     "output_type": "stream",
     "text": [
      "[1 2 3 4 5] [1705 1286 1260  268 1077]\n"
     ]
    }
   ],
   "source": [
    "# find unique labels and their counts\n",
    "labels_unique, counts = np.unique(consensus, return_counts=True)\n",
    "print(labels_unique, counts)"
   ]
  },
  {
   "cell_type": "code",
   "execution_count": 79,
   "metadata": {},
   "outputs": [
    {
     "name": "stdout",
     "output_type": "stream",
     "text": [
      "5, 5, 1, 5, 5, 2, 1, 2, 2, 1, 1, 5, "
     ]
    }
   ],
   "source": [
    "for i in bodyId_indices:\n",
    "    print(consensus[i], end=', ')"
   ]
  },
  {
   "cell_type": "code",
   "execution_count": 80,
   "metadata": {},
   "outputs": [],
   "source": [
    "consensusResults.append((expIters, consensus))"
   ]
  },
  {
   "cell_type": "code",
   "execution_count": 85,
   "metadata": {},
   "outputs": [
    {
     "data": {
      "text/plain": [
       "[(10, array([1, 1, 1, ..., 4, 4, 3])),\n",
       " (20, array([1, 1, 1, ..., 4, 4, 3])),\n",
       " (50, array([1, 1, 1, ..., 5, 5, 4])),\n",
       " (100, array([1, 1, 1, ..., 5, 5, 4])),\n",
       " (250, array([1, 1, 1, ..., 5, 5, 4]))]"
      ]
     },
     "execution_count": 85,
     "metadata": {},
     "output_type": "execute_result"
    }
   ],
   "source": [
    "consensusResults"
   ]
  },
  {
   "cell_type": "code",
   "execution_count": 92,
   "metadata": {},
   "outputs": [
    {
     "name": "stdout",
     "output_type": "stream",
     "text": [
      "[1 2 3 4 5] [1705 1286 1260  268 1077]\n"
     ]
    }
   ],
   "source": [
    "# print cluster numbers and DNs distribution\n",
    "iterNum = 4\n",
    "consensusTemp = consensusResults[iterNum][1]\n",
    "labels_unique, counts = np.unique(consensusTemp, return_counts=True)\n",
    "print(labels_unique, counts)\n",
    "\n",
    "for i in bodyId_indices:\n",
    "    print(consensusTemp[i], end=', ')\n",
    "print()"
   ]
  },
  {
   "cell_type": "code",
   "execution_count": 94,
   "metadata": {},
   "outputs": [
    {
     "data": {
      "text/plain": [
       "[(10, array([1, 1, 1, ..., 4, 4, 3])),\n",
       " (20, array([1, 1, 1, ..., 4, 4, 3])),\n",
       " (50, array([1, 1, 1, ..., 5, 5, 4])),\n",
       " (100, array([1, 1, 1, ..., 5, 5, 4])),\n",
       " (250, array([1, 1, 1, ..., 5, 5, 4]))]"
      ]
     },
     "execution_count": 94,
     "metadata": {},
     "output_type": "execute_result"
    }
   ],
   "source": [
    "consensusResults"
   ]
  },
  {
   "cell_type": "code",
   "execution_count": 115,
   "metadata": {},
   "outputs": [],
   "source": [
    "### save results of consensus clustering over all iterations\n",
    "# np.save('./data/consensusResults.npy', np.array(consensusResults, dtype=object), allow_pickle=True)"
   ]
  },
  {
   "cell_type": "code",
   "execution_count": 116,
   "metadata": {},
   "outputs": [],
   "source": [
    "# temp = np.load(\"./data/consensusResults.npy\", allow_pickle=True)"
   ]
  },
  {
   "cell_type": "code",
   "execution_count": null,
   "metadata": {},
   "outputs": [],
   "source": []
  },
  {
   "cell_type": "code",
   "execution_count": 81,
   "metadata": {},
   "outputs": [],
   "source": [
    "# result = modularity.consensus_modularity(adj_mat, repeats=10)"
   ]
  },
  {
   "cell_type": "code",
   "execution_count": 82,
   "metadata": {},
   "outputs": [
    {
     "data": {
      "text/plain": [
       "' # find cluster 0 across all runs to see which neurons are consistently assigned to cluster 0\\ncluster0_assignments = []\\nfor i in range(10):\\n    cluster0_assignments.append(np.where(clusterAssignments[i] == 0)[0])\\n\\ncluster0_assignments = np.array(cluster0_assignments)\\n\\n# use cluster0 ids to find the corresponding neuron bodyIds\\ncluster0_bodyIds = []\\nfor i in range(10):\\n    cluster0_bodyIds.append(graph.names[cluster0_assignments[i]])\\n\\n# identify which neurons are consistently assigned to cluster 0 by comparing each cluster0_bodyIds to the rest\\nprint(set(cluster0_bodyIds[0]).intersection(*cluster0_bodyIds[1:]))\\nfor i in range(1, 9):\\n    print(set(cluster0_bodyIds[i]).intersection(*cluster0_bodyIds[:i], *cluster0_bodyIds[i+1:]))\\nprint(set(cluster0_bodyIds[9]).intersection(*cluster0_bodyIds[:9])) '"
      ]
     },
     "execution_count": 82,
     "metadata": {},
     "output_type": "execute_result"
    }
   ],
   "source": [
    "\"\"\" # find cluster 0 across all runs to see which neurons are consistently assigned to cluster 0\n",
    "cluster0_assignments = []\n",
    "for i in range(10):\n",
    "    cluster0_assignments.append(np.where(clusterAssignments[i] == 0)[0])\n",
    "\n",
    "cluster0_assignments = np.array(cluster0_assignments)\n",
    "\n",
    "# use cluster0 ids to find the corresponding neuron bodyIds\n",
    "cluster0_bodyIds = []\n",
    "for i in range(10):\n",
    "    cluster0_bodyIds.append(graph.names[cluster0_assignments[i]])\n",
    "\n",
    "# identify which neurons are consistently assigned to cluster 0 by comparing each cluster0_bodyIds to the rest\n",
    "print(set(cluster0_bodyIds[0]).intersection(*cluster0_bodyIds[1:]))\n",
    "for i in range(1, 9):\n",
    "    print(set(cluster0_bodyIds[i]).intersection(*cluster0_bodyIds[:i], *cluster0_bodyIds[i+1:]))\n",
    "print(set(cluster0_bodyIds[9]).intersection(*cluster0_bodyIds[:9])) \"\"\""
   ]
  },
  {
   "cell_type": "code",
   "execution_count": null,
   "metadata": {},
   "outputs": [],
   "source": []
  },
  {
   "cell_type": "code",
   "execution_count": 49,
   "metadata": {},
   "outputs": [],
   "source": [
    "DIR = \"./data/consensusResults2\""
   ]
  },
  {
   "cell_type": "code",
   "execution_count": 50,
   "metadata": {},
   "outputs": [],
   "source": [
    "# aggregate consensus clustering results from different iterations into 1 numpy array\n",
    "\n",
    "consensusResults = []\n",
    "for file in os.listdir(DIR):\n",
    "    if file.endswith(\".npy\") and not file.startswith(\"consensusResults\"):\n",
    "        temp = np.load(f\"{DIR}/{file}\", allow_pickle=True)\n",
    "        consensusResults.append(temp[0])\n",
    "\n",
    "consensusResults = np.array(consensusResults)\n",
    "# sort rows of 2d numpy array by 1st column\n",
    "consensusResults = consensusResults[consensusResults[:,0].argsort()]"
   ]
  },
  {
   "cell_type": "code",
   "execution_count": 8,
   "metadata": {},
   "outputs": [],
   "source": [
    "# save aggregated consensus results in DIR\n",
    "np.save(f\"{DIR}/consensusResults.npy\", consensusResults, allow_pickle=True)"
   ]
  },
  {
   "cell_type": "code",
   "execution_count": null,
   "metadata": {},
   "outputs": [],
   "source": [
    "# check if temp and consensusResults have the same elements\n",
    "\"\"\" temp = np.load(f\"{DIR}/consensusResults.npy\", allow_pickle=True)\n",
    "for i in range(len(consensusResults)):\n",
    "    print((consensusResults[i][1] == temp[i][1]).all()) \"\"\""
   ]
  },
  {
   "cell_type": "code",
   "execution_count": null,
   "metadata": {},
   "outputs": [],
   "source": []
  },
  {
   "cell_type": "code",
   "execution_count": 51,
   "metadata": {},
   "outputs": [],
   "source": [
    "# curate all consensus results into a CSV file with columns: Num Iterations, Clustering consistency, DNp cluster assignment\n",
    "# Clustering consistency is the number of unique cluster assignments and their counts for an iteration\n",
    "\n",
    "df = pd.DataFrame(columns=['Num Iterations', 'Clustering consistency', 'DNp Cluster Assignment'])\n",
    "\n",
    "for i in range(len(consensusResults)):\n",
    "    labels_unique, counts = np.unique(consensusResults[i][1], return_counts=True)\n",
    "    df.loc[i] = [consensusResults[i][0], counts, consensusResults[i][1][bodyId_indices]]"
   ]
  },
  {
   "cell_type": "code",
   "execution_count": 52,
   "metadata": {},
   "outputs": [
    {
     "data": {
      "text/html": [
       "<div>\n",
       "<style scoped>\n",
       "    .dataframe tbody tr th:only-of-type {\n",
       "        vertical-align: middle;\n",
       "    }\n",
       "\n",
       "    .dataframe tbody tr th {\n",
       "        vertical-align: top;\n",
       "    }\n",
       "\n",
       "    .dataframe thead th {\n",
       "        text-align: right;\n",
       "    }\n",
       "</style>\n",
       "<table border=\"1\" class=\"dataframe\">\n",
       "  <thead>\n",
       "    <tr style=\"text-align: right;\">\n",
       "      <th></th>\n",
       "      <th>Num Iterations</th>\n",
       "      <th>Clustering consistency</th>\n",
       "      <th>DNp Cluster Assignment</th>\n",
       "    </tr>\n",
       "  </thead>\n",
       "  <tbody>\n",
       "    <tr>\n",
       "      <th>0</th>\n",
       "      <td>10</td>\n",
       "      <td>[1970, 1275, 1268, 1083]</td>\n",
       "      <td>[4, 4, 1, 4, 4, 2, 1, 2, 2, 1, 1, 4]</td>\n",
       "    </tr>\n",
       "    <tr>\n",
       "      <th>1</th>\n",
       "      <td>25</td>\n",
       "      <td>[1700, 1281, 70, 410, 1086, 1049]</td>\n",
       "      <td>[5, 5, 1, 5, 5, 2, 1, 2, 2, 1, 1, 5]</td>\n",
       "    </tr>\n",
       "    <tr>\n",
       "      <th>2</th>\n",
       "      <td>50</td>\n",
       "      <td>[1710, 1286, 180, 263, 1077, 1080]</td>\n",
       "      <td>[5, 5, 1, 5, 5, 2, 1, 2, 2, 1, 1, 5]</td>\n",
       "    </tr>\n",
       "    <tr>\n",
       "      <th>3</th>\n",
       "      <td>75</td>\n",
       "      <td>[1707, 1288, 1261, 263, 1077]</td>\n",
       "      <td>[5, 5, 1, 5, 5, 2, 1, 2, 2, 1, 1, 5]</td>\n",
       "    </tr>\n",
       "    <tr>\n",
       "      <th>4</th>\n",
       "      <td>100</td>\n",
       "      <td>[1705, 1285, 448, 1079, 1079]</td>\n",
       "      <td>[4, 4, 1, 4, 4, 2, 1, 2, 2, 1, 1, 4]</td>\n",
       "    </tr>\n",
       "    <tr>\n",
       "      <th>5</th>\n",
       "      <td>150</td>\n",
       "      <td>[1710, 1290, 1263, 252, 1081]</td>\n",
       "      <td>[5, 5, 1, 5, 5, 2, 1, 2, 2, 1, 1, 5]</td>\n",
       "    </tr>\n",
       "    <tr>\n",
       "      <th>6</th>\n",
       "      <td>200</td>\n",
       "      <td>[1705, 1293, 1262, 259, 1077]</td>\n",
       "      <td>[5, 5, 1, 5, 5, 2, 1, 2, 2, 1, 1, 5]</td>\n",
       "    </tr>\n",
       "    <tr>\n",
       "      <th>7</th>\n",
       "      <td>250</td>\n",
       "      <td>[1708, 1286, 1259, 268, 1075]</td>\n",
       "      <td>[5, 5, 1, 5, 5, 2, 1, 2, 2, 1, 1, 5]</td>\n",
       "    </tr>\n",
       "    <tr>\n",
       "      <th>8</th>\n",
       "      <td>300</td>\n",
       "      <td>[1708, 1287, 1260, 265, 1076]</td>\n",
       "      <td>[5, 5, 1, 5, 5, 2, 1, 2, 2, 1, 1, 5]</td>\n",
       "    </tr>\n",
       "    <tr>\n",
       "      <th>9</th>\n",
       "      <td>350</td>\n",
       "      <td>[1705, 1286, 444, 1078, 1083]</td>\n",
       "      <td>[4, 4, 1, 4, 4, 2, 1, 2, 2, 1, 1, 4]</td>\n",
       "    </tr>\n",
       "    <tr>\n",
       "      <th>10</th>\n",
       "      <td>400</td>\n",
       "      <td>[1707, 1282, 473, 1078, 1056]</td>\n",
       "      <td>[4, 4, 1, 4, 4, 2, 1, 2, 2, 1, 1, 4]</td>\n",
       "    </tr>\n",
       "    <tr>\n",
       "      <th>11</th>\n",
       "      <td>450</td>\n",
       "      <td>[1710, 1288, 459, 1076, 1063]</td>\n",
       "      <td>[4, 4, 1, 4, 4, 2, 1, 2, 2, 1, 1, 4]</td>\n",
       "    </tr>\n",
       "    <tr>\n",
       "      <th>12</th>\n",
       "      <td>500</td>\n",
       "      <td>[1708, 1284, 1260, 264, 1080]</td>\n",
       "      <td>[5, 5, 1, 5, 5, 2, 1, 2, 2, 1, 1, 5]</td>\n",
       "    </tr>\n",
       "  </tbody>\n",
       "</table>\n",
       "</div>"
      ],
      "text/plain": [
       "    Num Iterations              Clustering consistency  \\\n",
       "0               10            [1970, 1275, 1268, 1083]   \n",
       "1               25   [1700, 1281, 70, 410, 1086, 1049]   \n",
       "2               50  [1710, 1286, 180, 263, 1077, 1080]   \n",
       "3               75       [1707, 1288, 1261, 263, 1077]   \n",
       "4              100       [1705, 1285, 448, 1079, 1079]   \n",
       "5              150       [1710, 1290, 1263, 252, 1081]   \n",
       "6              200       [1705, 1293, 1262, 259, 1077]   \n",
       "7              250       [1708, 1286, 1259, 268, 1075]   \n",
       "8              300       [1708, 1287, 1260, 265, 1076]   \n",
       "9              350       [1705, 1286, 444, 1078, 1083]   \n",
       "10             400       [1707, 1282, 473, 1078, 1056]   \n",
       "11             450       [1710, 1288, 459, 1076, 1063]   \n",
       "12             500       [1708, 1284, 1260, 264, 1080]   \n",
       "\n",
       "                  DNp Cluster Assignment  \n",
       "0   [4, 4, 1, 4, 4, 2, 1, 2, 2, 1, 1, 4]  \n",
       "1   [5, 5, 1, 5, 5, 2, 1, 2, 2, 1, 1, 5]  \n",
       "2   [5, 5, 1, 5, 5, 2, 1, 2, 2, 1, 1, 5]  \n",
       "3   [5, 5, 1, 5, 5, 2, 1, 2, 2, 1, 1, 5]  \n",
       "4   [4, 4, 1, 4, 4, 2, 1, 2, 2, 1, 1, 4]  \n",
       "5   [5, 5, 1, 5, 5, 2, 1, 2, 2, 1, 1, 5]  \n",
       "6   [5, 5, 1, 5, 5, 2, 1, 2, 2, 1, 1, 5]  \n",
       "7   [5, 5, 1, 5, 5, 2, 1, 2, 2, 1, 1, 5]  \n",
       "8   [5, 5, 1, 5, 5, 2, 1, 2, 2, 1, 1, 5]  \n",
       "9   [4, 4, 1, 4, 4, 2, 1, 2, 2, 1, 1, 4]  \n",
       "10  [4, 4, 1, 4, 4, 2, 1, 2, 2, 1, 1, 4]  \n",
       "11  [4, 4, 1, 4, 4, 2, 1, 2, 2, 1, 1, 4]  \n",
       "12  [5, 5, 1, 5, 5, 2, 1, 2, 2, 1, 1, 5]  "
      ]
     },
     "execution_count": 52,
     "metadata": {},
     "output_type": "execute_result"
    }
   ],
   "source": [
    "df"
   ]
  },
  {
   "cell_type": "code",
   "execution_count": 53,
   "metadata": {},
   "outputs": [],
   "source": [
    "# save df as CSV file\n",
    "df.to_csv(f\"{DIR}/consensusSummary.csv\", index=False)"
   ]
  },
  {
   "cell_type": "markdown",
   "metadata": {},
   "source": []
  },
  {
   "cell_type": "code",
   "execution_count": 8,
   "metadata": {},
   "outputs": [
    {
     "data": {
      "text/plain": [
       "[5, 5, 1, 5, 5, 2, 1, 2, 2, 1, 1, 5]"
      ]
     },
     "execution_count": 8,
     "metadata": {},
     "output_type": "execute_result"
    }
   ],
   "source": [
    "DNp_cluster_assignments = [int(i) for i in \"5 5 1 5 5 2 1 2 2 1 1 5\".split(\" \")]\n",
    "DNp_cluster_assignments"
   ]
  },
  {
   "cell_type": "code",
   "execution_count": 11,
   "metadata": {},
   "outputs": [],
   "source": [
    "# extract bodyIds of neurons in cluster 1,2,5\n",
    "cluster1_bodyIds, cluster2_bodyIds, cluster5_bodyIds = [], [], []\n",
    "\n",
    "for i in range(len(DNp_cluster_assignments)):\n",
    "    if DNp_cluster_assignments[i] == 1:\n",
    "        cluster1_bodyIds.append(DNp_ids[i])\n",
    "    elif DNp_cluster_assignments[i] == 2:\n",
    "        cluster2_bodyIds.append(DNp_ids[i])\n",
    "    elif DNp_cluster_assignments[i] == 5:\n",
    "        cluster5_bodyIds.append(DNp_ids[i])"
   ]
  },
  {
   "cell_type": "code",
   "execution_count": 12,
   "metadata": {},
   "outputs": [
    {
     "data": {
      "text/plain": [
       "([1565846637, 1100404581, 512851433, 5813026936],\n",
       " [5813023322, 1226887763, 1228264951],\n",
       " [2307027729, 5813024015, 1405231475, 1466998977, 1281324958])"
      ]
     },
     "execution_count": 12,
     "metadata": {},
     "output_type": "execute_result"
    }
   ],
   "source": [
    "cluster1_bodyIds, cluster2_bodyIds, cluster5_bodyIds"
   ]
  },
  {
   "cell_type": "markdown",
   "metadata": {},
   "source": [
    "Cluster 1: 1565846637 (DNp03), 1100404581 (DNp07), 512851433 (DNp10(PDM27)_L), 5813026936 (DNp10_R)\n",
    "Cluster 2: 5813023322 (DNp06), 1226887763 (DNp09), 1228264951 (DNp09)\n",
    "Cluster 5: 2307027729 (Giant Fiber), 5813024015 (DNp02), 1405231475 (DNp04), 1466998977 (DNp05), 1281324958 (DNp11)"
   ]
  }
 ],
 "metadata": {
  "kernelspec": {
   "display_name": "neuprint",
   "language": "python",
   "name": "python3"
  },
  "language_info": {
   "codemirror_mode": {
    "name": "ipython",
    "version": 3
   },
   "file_extension": ".py",
   "mimetype": "text/x-python",
   "name": "python",
   "nbconvert_exporter": "python",
   "pygments_lexer": "ipython3",
   "version": "3.10.12"
  },
  "orig_nbformat": 4
 },
 "nbformat": 4,
 "nbformat_minor": 2
}
