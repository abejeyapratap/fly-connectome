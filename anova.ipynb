{
 "cells": [
  {
   "cell_type": "code",
   "execution_count": 1,
   "metadata": {},
   "outputs": [],
   "source": [
    "import numpy as np\n",
    "import pandas as pd\n",
    "import matplotlib.pyplot as plt\n",
    "import scipy.stats as stats\n",
    "\n",
    "import pickle"
   ]
  },
  {
   "cell_type": "code",
   "execution_count": 45,
   "metadata": {},
   "outputs": [],
   "source": [
    "metricName = \"betweenCentrality\" # CHANGE THIS"
   ]
  },
  {
   "cell_type": "code",
   "execution_count": 46,
   "metadata": {},
   "outputs": [],
   "source": [
    "# load results from graph metric pickle files\n",
    "with open(f'./data/{metricName}.pkl', 'rb') as handle:\n",
    "    graphMetric = pickle.load(handle)"
   ]
  },
  {
   "cell_type": "code",
   "execution_count": 47,
   "metadata": {},
   "outputs": [
    {
     "name": "stdout",
     "output_type": "stream",
     "text": [
      "betweenCentrality ANOVA Results\n"
     ]
    }
   ],
   "source": [
    "# Run ANOVA on Cluster 1's metric for each of the 5 keys in the dictionary\n",
    "iter10, iter20, iter50, iter100, iter250 = graphMetric[10], graphMetric[20], graphMetric[50], graphMetric[100], graphMetric[250]\n",
    "\n",
    "# cast each cluster's metric values to a list\n",
    "# save statistics to file\n",
    "print(f\"{metricName} ANOVA Results\")\n",
    "with open(f'./data/anova/{metricName}_ANOVA.txt', 'w') as f:\n",
    "    for i in range(5):\n",
    "        f.write(f\"Cluster: {i+1}\\n\")\n",
    "        iter10_clust = list(iter10[i].values())\n",
    "        iter20_clust = list(iter20[i].values())\n",
    "        iter100_clust = list(iter100[i].values())\n",
    "        iter250_clust = list(iter250[i].values())\n",
    "\n",
    "        if i == 3:\n",
    "            iter50_clust = list(iter50[i].values()) + list(iter50[i+1].values()) # combine cluster 3 and 4\n",
    "        elif i > 3:\n",
    "            iter50_clust = list(iter50[i+1].values()) # skip cluster 4 (already combined with cluster 3)\n",
    "        else:\n",
    "            iter50_clust = list(iter50[i].values())\n",
    "\n",
    "        allIter_clust = [iter10_clust, iter20_clust, iter50_clust, iter100_clust, iter250_clust]\n",
    "\n",
    "        statistic, pvalue = stats.f_oneway(*allIter_clust)\n",
    "        f.write(f\"Statistic: {statistic}; P-Value: {pvalue}\\n\")\n",
    "        f.write(\"\\n\")"
   ]
  },
  {
   "cell_type": "code",
   "execution_count": 48,
   "metadata": {},
   "outputs": [
    {
     "name": "stdout",
     "output_type": "stream",
     "text": [
      "Tukey's HSD Pairwise Group Comparisons (95.0% Confidence Interval)\n",
      "Comparison  Statistic  p-value  Lower CI  Upper CI\n",
      " (0 - 1)      0.000     0.990    -0.000     0.001\n",
      " (0 - 2)      0.000     0.996    -0.000     0.001\n",
      " (0 - 3)      0.001     0.000     0.001     0.002\n",
      " (0 - 4)      0.001     0.048     0.000     0.001\n",
      " (1 - 0)     -0.000     0.990    -0.001     0.000\n",
      " (1 - 2)     -0.000     1.000    -0.001     0.001\n",
      " (1 - 3)      0.001     0.000     0.001     0.001\n",
      " (1 - 4)      0.000     0.145    -0.000     0.001\n",
      " (2 - 0)     -0.000     0.996    -0.001     0.000\n",
      " (2 - 1)      0.000     1.000    -0.001     0.001\n",
      " (2 - 3)      0.001     0.000     0.001     0.002\n",
      " (2 - 4)      0.000     0.117    -0.000     0.001\n",
      " (3 - 0)     -0.001     0.000    -0.002    -0.001\n",
      " (3 - 1)     -0.001     0.000    -0.001    -0.001\n",
      " (3 - 2)     -0.001     0.000    -0.002    -0.001\n",
      " (3 - 4)     -0.001     0.022    -0.001    -0.000\n",
      " (4 - 0)     -0.001     0.048    -0.001    -0.000\n",
      " (4 - 1)     -0.000     0.145    -0.001     0.000\n",
      " (4 - 2)     -0.000     0.117    -0.001     0.000\n",
      " (4 - 3)      0.001     0.022     0.000     0.001\n",
      "\n"
     ]
    }
   ],
   "source": [
    "res = stats.tukey_hsd(iter10_clust, iter20_clust, iter50_clust, iter100_clust, iter250_clust)\n",
    "print(res)"
   ]
  }
 ],
 "metadata": {
  "kernelspec": {
   "display_name": "neuprint",
   "language": "python",
   "name": "python3"
  },
  "language_info": {
   "codemirror_mode": {
    "name": "ipython",
    "version": 3
   },
   "file_extension": ".py",
   "mimetype": "text/x-python",
   "name": "python",
   "nbconvert_exporter": "python",
   "pygments_lexer": "ipython3",
   "version": "3.10.12"
  },
  "orig_nbformat": 4
 },
 "nbformat": 4,
 "nbformat_minor": 2
}
