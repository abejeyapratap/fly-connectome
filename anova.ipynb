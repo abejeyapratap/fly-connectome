{
 "cells": [
  {
   "cell_type": "code",
   "execution_count": 1,
   "metadata": {},
   "outputs": [],
   "source": [
    "import numpy as np\n",
    "import pandas as pd\n",
    "import matplotlib.pyplot as plt\n",
    "import scipy.stats as stats\n",
    "\n",
    "import pickle"
   ]
  },
  {
   "cell_type": "code",
   "execution_count": 2,
   "metadata": {},
   "outputs": [],
   "source": [
    "metricName = \"betweenCentrality\""
   ]
  },
  {
   "cell_type": "code",
   "execution_count": 3,
   "metadata": {},
   "outputs": [],
   "source": [
    "# load results from graph metric pickle files\n",
    "with open(f'./data/{metricName}.pkl', 'rb') as handle:\n",
    "    betweenCentrality = pickle.load(handle)"
   ]
  },
  {
   "cell_type": "code",
   "execution_count": null,
   "metadata": {},
   "outputs": [],
   "source": [
    "betweenCentrality"
   ]
  },
  {
   "cell_type": "code",
   "execution_count": 27,
   "metadata": {},
   "outputs": [
    {
     "name": "stdout",
     "output_type": "stream",
     "text": [
      "Statistic: 0.058338440389851566 P-Value: 0.9936986027484117\n"
     ]
    }
   ],
   "source": [
    "# Run ANOVA on Cluster 1's metric for each of the 5 keys in the dictionary\n",
    "\n",
    "iter10, iter20, iter50, iter100, iter250 = betweenCentrality[10], betweenCentrality[20], betweenCentrality[50], betweenCentrality[100], betweenCentrality[250]\n",
    "\n",
    "# cast cluster1's metric values to a list\n",
    "iter10_clust1 = list(iter10[1].values())\n",
    "iter20_clust1 = list(iter20[1].values())\n",
    "iter50_clust1 = list(iter50[1].values())\n",
    "iter100_clust1 = list(iter100[1].values())\n",
    "iter250_clust1 = list(iter250[1].values())\n",
    "\n",
    "allIter_clust = [iter10_clust1, iter20_clust1, iter50_clust1, iter100_clust1, iter250_clust1]\n",
    "\n",
    "statistic, pvalue = stats.f_oneway(*allIter_clust)\n",
    "print(\"Statistic:\", statistic, \"P-Value:\", pvalue)"
   ]
  },
  {
   "cell_type": "code",
   "execution_count": 25,
   "metadata": {},
   "outputs": [
    {
     "name": "stdout",
     "output_type": "stream",
     "text": [
      "Tukey's HSD Pairwise Group Comparisons (95.0% Confidence Interval)\n",
      "Comparison  Statistic  p-value  Lower CI  Upper CI\n",
      " (0 - 1)     -0.000     0.998    -0.000     0.000\n",
      " (0 - 2)     -0.000     0.994    -0.000     0.000\n",
      " (0 - 3)     -0.000     0.995    -0.000     0.000\n",
      " (0 - 4)     -0.000     0.996    -0.000     0.000\n",
      " (1 - 0)      0.000     0.998    -0.000     0.000\n",
      " (1 - 2)     -0.000     1.000    -0.000     0.000\n",
      " (1 - 3)     -0.000     1.000    -0.000     0.000\n",
      " (1 - 4)     -0.000     1.000    -0.000     0.000\n",
      " (2 - 0)      0.000     0.994    -0.000     0.000\n",
      " (2 - 1)      0.000     1.000    -0.000     0.000\n",
      " (2 - 3)      0.000     1.000    -0.000     0.000\n",
      " (2 - 4)      0.000     1.000    -0.000     0.000\n",
      " (3 - 0)      0.000     0.995    -0.000     0.000\n",
      " (3 - 1)      0.000     1.000    -0.000     0.000\n",
      " (3 - 2)     -0.000     1.000    -0.000     0.000\n",
      " (3 - 4)      0.000     1.000    -0.000     0.000\n",
      " (4 - 0)      0.000     0.996    -0.000     0.000\n",
      " (4 - 1)      0.000     1.000    -0.000     0.000\n",
      " (4 - 2)     -0.000     1.000    -0.000     0.000\n",
      " (4 - 3)     -0.000     1.000    -0.000     0.000\n",
      "\n"
     ]
    }
   ],
   "source": [
    "res = stats.tukey_hsd(iter10_clust1, iter20_clust1, iter50_clust1, iter100_clust1, iter250_clust1)\n",
    "print(res)"
   ]
  }
 ],
 "metadata": {
  "kernelspec": {
   "display_name": "neuprint",
   "language": "python",
   "name": "python3"
  },
  "language_info": {
   "codemirror_mode": {
    "name": "ipython",
    "version": 3
   },
   "file_extension": ".py",
   "mimetype": "text/x-python",
   "name": "python",
   "nbconvert_exporter": "python",
   "pygments_lexer": "ipython3",
   "version": "3.10.9"
  },
  "orig_nbformat": 4
 },
 "nbformat": 4,
 "nbformat_minor": 2
}
