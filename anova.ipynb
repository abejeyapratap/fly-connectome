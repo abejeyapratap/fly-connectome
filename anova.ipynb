{
 "cells": [
  {
   "cell_type": "code",
   "execution_count": 1,
   "metadata": {},
   "outputs": [],
   "source": [
    "import numpy as np\n",
    "import pandas as pd\n",
    "import matplotlib.pyplot as plt\n",
    "import scipy.stats as stats\n",
    "\n",
    "import pickle"
   ]
  },
  {
   "cell_type": "code",
   "execution_count": 6,
   "metadata": {},
   "outputs": [],
   "source": [
    "metricName = \"betweenCentrality\" # CHANGE THIS"
   ]
  },
  {
   "cell_type": "code",
   "execution_count": 7,
   "metadata": {},
   "outputs": [],
   "source": [
    "# DIR = \"./data/\"\n",
    "DIR = \"./data/consensusResults2\""
   ]
  },
  {
   "cell_type": "code",
   "execution_count": 8,
   "metadata": {},
   "outputs": [],
   "source": [
    "# load results from graph metric pickle files\n",
    "with open(f'{DIR}/{metricName}.pkl', 'rb') as handle:\n",
    "    graphMetric = pickle.load(handle)"
   ]
  },
  {
   "cell_type": "code",
   "execution_count": 49,
   "metadata": {},
   "outputs": [
    {
     "name": "stdout",
     "output_type": "stream",
     "text": [
      "Max number of clusters to iterate through: 5\n",
      "degreeCentrality ANOVA testing complete.\n"
     ]
    }
   ],
   "source": [
    "# NOTE: iter10 has been ignored because of the low number of clusters (4)\n",
    "\n",
    "# Run ANOVA on Cluster 1's metric for each of the 13 keys in the dictionary\n",
    "iter10, iter25, iter50, iter75, iter100, iter150, iter200, iter250, iter300, iter350, iter400, iter450, iter500 = graphMetric[10], graphMetric[25], graphMetric[50], graphMetric[75], graphMetric[100], graphMetric[150], graphMetric[200], graphMetric[250], graphMetric[300], graphMetric[350], graphMetric[400], graphMetric[450], graphMetric[500]\n",
    "\n",
    "# Find max number of clusters to iterate through\n",
    "max_num_of_clusters = min(len(iter25), len(iter50), len(iter75), len(iter100), len(iter150), len(iter200), len(iter250), len(iter300), len(iter350), len(iter400), len(iter450), len(iter500))\n",
    "\n",
    "# Print max number of clusters\n",
    "print(f\"Max number of clusters to iterate through: {max_num_of_clusters}\")\n",
    "\n",
    "list_of_iters = [iter25, iter50, iter75, iter100, iter150, iter200, iter250, iter300, iter350, iter400, iter450, iter500]\n",
    "\n",
    "# Cast each cluster's metric values to a list\n",
    "# Save statistics to file\n",
    "\n",
    "with open(f'./data/anova/initial/{metricName}_ANOVA.txt', 'w') as f:\n",
    "    for i in range(max_num_of_clusters):\n",
    "        f.write(f\"Cluster: {i+1}\\n\")\n",
    "        list_of_clusters = [list(iteration[i].values()) for iteration in list_of_iters]\n",
    "\n",
    "        statistic, pvalue = stats.f_oneway(*list_of_clusters)\n",
    "        f.write(f\"Statistic: {statistic}; P-Value: {pvalue}\\n\")\n",
    "        f.write(\"\\n\")\n",
    "\n",
    "print(metricName + \" ANOVA testing complete.\")"
   ]
  },
  {
   "cell_type": "code",
   "execution_count": 9,
   "metadata": {},
   "outputs": [
    {
     "name": "stdout",
     "output_type": "stream",
     "text": [
      "Max number of clusters to iterate through: 5\n",
      "betweenCentrality ANOVA testing complete.\n"
     ]
    }
   ],
   "source": [
    "# NOTE: iter10 has been ignored because of the low number of clusters (4)\n",
    "\n",
    "# Run ANOVA on Cluster 1's metric for each of the 13 keys in the dictionary\n",
    "iter10, iter25, iter50, iter75, iter100, iter150, iter200, iter250, iter300, iter350, iter400, iter450, iter500 = graphMetric[10], graphMetric[25], graphMetric[50], graphMetric[75], graphMetric[100], graphMetric[150], graphMetric[200], graphMetric[250], graphMetric[300], graphMetric[350], graphMetric[400], graphMetric[450], graphMetric[500]\n",
    "\n",
    "# Find max number of clusters to iterate through\n",
    "max_num_of_clusters = min(len(iter25), len(iter50), len(iter75), len(iter100), len(iter150), len(iter200), len(iter250), len(iter300), len(iter350), len(iter400), len(iter450), len(iter500))\n",
    "\n",
    "# Print max number of clusters\n",
    "print(f\"Max number of clusters to iterate through: {max_num_of_clusters}\")\n",
    "\n",
    "sliding_window_size = 3\n",
    "\n",
    "list_of_iters = [iter25, iter50, iter75, iter100, iter150, iter200, iter250, iter300, iter350, iter400, iter450, iter500]\n",
    "list_of_iter_tags = [\"25\", \"50\", \"75\", \"100\", \"150\", \"200\", \"250\", \"300\", \"350\", \"400\", \"450\", \"500\"]\n",
    "# Cast each cluster's metric values to a list\n",
    "# Save statistics to file\n",
    "\n",
    "with open(f'./data/anova/sliding/{metricName}_ANOVA.txt', 'w') as f:\n",
    "    for i in range(max_num_of_clusters):\n",
    "        f.write(f\"[CLUSTER {i+1}]\\n\\n\")\n",
    "        list_of_clusters = [list(iteration[i].values()) for iteration in list_of_iters]\n",
    "        for j in range(len(list_of_clusters) - sliding_window_size):\n",
    "            f.write(f\"Cluster {i+1} from {list_of_iter_tags[j]} to {list_of_iter_tags[j+sliding_window_size]}\\n\")\n",
    "\n",
    "            window_of_clusters = list_of_clusters[j:j+sliding_window_size]\n",
    "\n",
    "            statistic, pvalue = stats.f_oneway(*list_of_clusters)\n",
    "            f.write(f\"Statistic: {statistic}; P-Value: {pvalue}\\n\")\n",
    "            f.write(\"\\n\")\n",
    "\n",
    "print(metricName + \" ANOVA testing complete.\")"
   ]
  }
 ],
 "metadata": {
  "kernelspec": {
   "display_name": "neuprint",
   "language": "python",
   "name": "python3"
  },
  "language_info": {
   "codemirror_mode": {
    "name": "ipython",
    "version": 3
   },
   "file_extension": ".py",
   "mimetype": "text/x-python",
   "name": "python",
   "nbconvert_exporter": "python",
   "pygments_lexer": "ipython3",
   "version": "3.10.12"
  },
  "orig_nbformat": 4
 },
 "nbformat": 4,
 "nbformat_minor": 2
}
